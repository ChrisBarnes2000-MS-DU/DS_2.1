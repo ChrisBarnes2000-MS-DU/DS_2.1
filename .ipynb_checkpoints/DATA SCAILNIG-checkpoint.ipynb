{
 "cells": [
  {
   "cell_type": "markdown",
   "metadata": {},
   "source": [
    "## Activity for Data Scaling: Max_Min Scaler\n",
    "You will do this activity in groups of 4\n",
    "\n",
    "A two dimensional array (Matrix) X is given, write a function max_min_s that for each column:\n",
    "\n",
    "1. Obtains the minimum value of the column (min)\n",
    "2. Obtains the range of the column (range)\n",
    "3. For each value in the column, calculate the following: (value-min)/range\n",
    "\n",
    "Remember: the range is the difference between the maximum element and minimum element of each column\n",
    "\n",
    "Use this dataset as an example input to your function: X_train = np.array([[1000.0, 2.0], [1500.0, 3.0]])"
   ]
  },
  {
   "cell_type": "code",
   "execution_count": 1,
   "metadata": {},
   "outputs": [
    {
     "name": "stdout",
     "output_type": "stream",
     "text": [
      "Examples Given\n",
      "First using numpy\n",
      "[[0. 0.]\n",
      " [1. 1.]]\n",
      "------or------\n",
      "Let's use the Sklearn preprocessing package to do the same thing as our above function\n",
      "[[0. 0.]\n",
      " [1. 1.]]\n"
     ]
    }
   ],
   "source": [
    "print(\"Examples Given\")\n",
    "\n",
    "\n",
    "print(\"First using numpy\")\n",
    "import numpy as np\n",
    "\n",
    "def max_min_s(X):\n",
    "    # the two-step process as described above\n",
    "    return (X - X.min(axis=0)) / (X.max(axis=0) - X.min(axis=0))\n",
    "\n",
    "X_train = np.array([[1000.0, 2.0], [1500.0, 3.0]])\n",
    "print(max_min_s(X_train))\n",
    "\n",
    "\n",
    "print(\"------or------\")\n",
    "\n",
    "\n",
    "print(\"Let's use the Sklearn preprocessing package to do the same thing as our above function\")\n",
    "from sklearn import preprocessing\n",
    "\n",
    "min_max_scaler = preprocessing.MinMaxScaler()\n",
    "X_minmax = min_max_scaler.fit_transform(X_train)\n",
    "print(X_minmax)"
   ]
  },
  {
   "cell_type": "code",
   "execution_count": 2,
   "metadata": {},
   "outputs": [
    {
     "name": "stdout",
     "output_type": "stream",
     "text": [
      "my method\n",
      "1.0\n",
      "0.0\n",
      "1.0\n",
      "0.0\n"
     ]
    }
   ],
   "source": [
    "print(\"my method\")\n",
    "def max_min_s(matrix):\n",
    "    for c in matrix:\n",
    "        lowest = min(c)\n",
    "        rang = max(c) - min(c)\n",
    "        for i in c:\n",
    "            value = (i-lowest)/rang\n",
    "            print(value)\n",
    "max_min_s(np.array([[1000.0, 2.0], [1500.0, 3.0]]))"
   ]
  },
  {
   "cell_type": "code",
   "execution_count": null,
   "metadata": {},
   "outputs": [],
   "source": []
  },
  {
   "cell_type": "code",
   "execution_count": null,
   "metadata": {},
   "outputs": [],
   "source": []
  },
  {
   "cell_type": "markdown",
   "metadata": {},
   "source": [
    "## Activity for Data Scaling: Standard Scaler\n",
    "You will do this activity in groups of 4\n",
    "\n",
    "A two dimensional array (Matrix) X is given, write a function that for each column:\n",
    "\n",
    "1. Obtain the mean for the column (mean)\n",
    "2. Obtain the standard deviation for the column (std)\n",
    "3. For each value in the column, calculate the following: (value - mean)/std\n"
   ]
  },
  {
   "cell_type": "code",
   "execution_count": 3,
   "metadata": {},
   "outputs": [
    {
     "name": "stdout",
     "output_type": "stream",
     "text": [
      "numpy method\n",
      "[[-1. -1.]\n",
      " [ 1.  1.]]\n",
      "------or------\n",
      "Lets use Sklearn preprecoessing package to do the same thing\n",
      "[[-1. -1.]\n",
      " [ 1.  1.]]\n"
     ]
    }
   ],
   "source": [
    "print(\"numpy method\")\n",
    "def standard_s(X):\n",
    "    return (X - X.mean(axis=0)) /X.std(axis=0) \n",
    "\n",
    "print(standard_s(X_train))\n",
    "\n",
    "print(\"------or------\")\n",
    "\n",
    "print(\"Lets use Sklearn preprecoessing package to do the same thing\")\n",
    "\n",
    "standard_scaler = preprocessing.StandardScaler()\n",
    "X_ss = standard_scaler.fit_transform(X_train)\n",
    "print(X_ss)"
   ]
  },
  {
   "cell_type": "code",
   "execution_count": 4,
   "metadata": {},
   "outputs": [
    {
     "name": "stdout",
     "output_type": "stream",
     "text": [
      "my method\n",
      "[[-1. -1.]\n",
      " [ 1.  1.]]\n"
     ]
    }
   ],
   "source": [
    "print(\"my method\")\n",
    "def standard_s(X):\n",
    "    mean = X.mean(axis=0)\n",
    "    std = X.std(axis=0) \n",
    "    \n",
    "    return (X - mean) /std \n",
    "print(standard_s(X_train))"
   ]
  },
  {
   "cell_type": "code",
   "execution_count": null,
   "metadata": {},
   "outputs": [],
   "source": []
  }
 ],
 "metadata": {
  "kernelspec": {
   "display_name": "Python 3",
   "language": "python",
   "name": "python3"
  },
  "language_info": {
   "codemirror_mode": {
    "name": "ipython",
    "version": 3
   },
   "file_extension": ".py",
   "mimetype": "text/x-python",
   "name": "python",
   "nbconvert_exporter": "python",
   "pygments_lexer": "ipython3",
   "version": "3.8.1"
  }
 },
 "nbformat": 4,
 "nbformat_minor": 4
}
