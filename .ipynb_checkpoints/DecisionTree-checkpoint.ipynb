{
 "cells": [
  {
   "cell_type": "code",
   "execution_count": 1,
   "metadata": {},
   "outputs": [],
   "source": [
    "from sklearn.model_selection import train_test_split\n",
    "from sklearn.linear_model import LogisticRegression\n",
    "from sklearn import metrics\n",
    "import matplotlib.pyplot as plt\n",
    "import pandas as pd\n",
    "import numpy as np"
   ]
  },
  {
   "cell_type": "markdown",
   "metadata": {},
   "source": [
    "# Decision Trees are based on Entropy\n",
    "Activity: Calculate the entropy for a coin\n",
    "Entropy shows the uncertainy of a random variable. The higher the entropy value, the more unncertain we are. Entropy is displayed as $H(X)$, where $X$ is a random variable\n",
    "\n",
    "The Entropy formula is the summation of probabilities multiplied by the log of probabilities:\n",
    "\n",
    "## Entropy of coin\n",
    "Given p stands for \"probability of\",\n",
    "\n",
    "for outcome in [H,T]:\n",
    "\n",
    "$H(Coin) = \\sum -p(outcome) * log_2(p(outcome)$\n",
    "\n",
    "## Entropy of a fair coin\n",
    "for p(outcome) in [p(H)=0.5, p(T)=0.5]):\n",
    "\n",
    "$H(Coin) = \\sum -p(outcome) * log_2(p(outcome)$"
   ]
  },
  {
   "cell_type": "code",
   "execution_count": 2,
   "metadata": {},
   "outputs": [
    {
     "name": "stdout",
     "output_type": "stream",
     "text": [
      "1.0\n",
      "0.4689955935892812\n"
     ]
    }
   ],
   "source": [
    "print((-0.5 * np.log2(0.5))+(-0.5 * np.log2(0.5)))\n",
    "\n",
    "print((-0.9 * np.log2(0.9))+(-0.1 * np.log2(0.1)))"
   ]
  },
  {
   "cell_type": "code",
   "execution_count": 3,
   "metadata": {},
   "outputs": [
    {
     "name": "stdout",
     "output_type": "stream",
     "text": [
      "1.0\n",
      "0.4689955935892812\n",
      "2.5849853457818157\n"
     ]
    }
   ],
   "source": [
    "def entropy(p):\n",
    "    H = np.array([-i*np.log2(i) for i in p]).sum()\n",
    "    return H\n",
    "    \n",
    "p = [.5, .5]\n",
    "print(entropy(p))\n",
    "\n",
    "p = [.9, .1]\n",
    "print(entropy(p))\n",
    "\n",
    "\n",
    "p = [.16667,.16667,.16667,.16667,.16667,.16667]\n",
    "print(entropy(p))"
   ]
  },
  {
   "cell_type": "markdown",
   "metadata": {},
   "source": [
    "# Activity: Obtain the following quantitites:\n",
    "In groups of 3: Using the tennis dataset, obtain the following quantities:\n",
    "\n",
    "## Entropy for PlayTennis:\n",
    "Obtain the entropy of thePlayTennis (Leaf/Decision) column.\n",
    "\n",
    "## Entropy for PlayTennis conditioned on Weak Wind factor\n",
    "Obtain the entropy of conditional probability p(PlayTennis | Wind = Weak) = [2/8, 6/8]\n",
    "\n",
    "## Entropy for PlayTennis conditioned on Strong Wind factor\n",
    "Obtain the entropy of conditional probability p(PlayTennis | Wind = Strong) = [3/6, 3/6]\n",
    "\n",
    "### Hints:\n",
    "\n",
    "p = [9/14, 5/14] which represents the probability that a player plays tennis (9/14 days) or not (5/14 days)\n",
    "Remember your Entropy function from earlier\n",
    "\n",
    "### Solutions\n",
    "Entropy(Decision) = – (9/14) . log2(9/14) – (5/14) . log2(5/14) = 0.940"
   ]
  },
  {
   "cell_type": "code",
   "execution_count": 4,
   "metadata": {},
   "outputs": [
    {
     "name": "stdout",
     "output_type": "stream",
     "text": [
      "     Outlook  Temp Humidity    Wind Play\n",
      "1      Sunny   Hot     High    Weak   No\n",
      "2      Sunny   Hot     High  Strong   No\n",
      "3   Overcast   Hot     High    Weak  Yes\n",
      "4       Rain  Mild     High    Weak  Yes\n",
      "5       Rain  Cool   Normal    Weak  Yes\n",
      "6       Rain  Cool   Normal  Strong   No\n",
      "7   Overcast  Cool   Normal  Strong  Yes\n",
      "8      Sunny  Mild     High    Weak   No\n",
      "9      Sunny  Cool   Normal    Weak  Yes\n",
      "10      Rain  Mild   Normal    Weak  Yes\n",
      "11     Sunny  Mild   Normal  Strong  Yes\n",
      "12  Overcast  Mild     High  Strong  Yes\n",
      "13  Overcast   Hot   Normal    Weak  Yes\n",
      "14      Rain  Mild     High  Strong   No\n"
     ]
    }
   ],
   "source": [
    "data = pd.read_csv('./Datasets/tennis.txt', delimiter=\"\\t\", header=None, names=['Outlook', 'Temp', 'Humidity', 'Wind', 'Play'])\n",
    "\n",
    "print(data)"
   ]
  },
  {
   "cell_type": "code",
   "execution_count": 5,
   "metadata": {},
   "outputs": [
    {
     "name": "stdout",
     "output_type": "stream",
     "text": [
      "0.6428571428571429 0.35714285714285715\n",
      "0.9402859586706311\n"
     ]
    }
   ],
   "source": [
    "yes_prob = dict(data.Play.value_counts())['Yes']/len(data)\n",
    "no_prob = dict(data.Play.value_counts())['No']/len(data)\n",
    "print(yes_prob, no_prob)\n",
    "p = [yes_prob, no_prob]\n",
    "print(entropy(p))"
   ]
  },
  {
   "cell_type": "code",
   "execution_count": 6,
   "metadata": {},
   "outputs": [],
   "source": [
    "features = ['Wind', 'Play']\n",
    "df = data[features]"
   ]
  },
  {
   "cell_type": "code",
   "execution_count": 7,
   "metadata": {},
   "outputs": [],
   "source": [
    "\n",
    "# yes_prob = dict(data.Wind.value_counts())['Strong']/len(data)\n",
    "# no_prob = dict(data.Wind.value_counts())['Weak']/len(data)\n",
    "# print(yes_prob, no_prob)\n",
    "# p = [yes_prob, no_prob]\n",
    "# print(entropy(p))"
   ]
  },
  {
   "cell_type": "code",
   "execution_count": 8,
   "metadata": {},
   "outputs": [
    {
     "name": "stdout",
     "output_type": "stream",
     "text": [
      "0.21428571428571427 0.21428571428571427\n",
      "0.9524538948584778\n"
     ]
    }
   ],
   "source": [
    "## Probabilty of playing on strong wind\n",
    "\n",
    "yes_prob = dict(df[df[\"Wind\"]==\"Strong\"].Play.value_counts())['Yes']/len(df)\n",
    "no_prob = dict(df[df[\"Wind\"]==\"Strong\"].Play.value_counts())['No']/len(df)\n",
    "print(yes_prob, no_prob)\n",
    "p = [yes_prob, no_prob]\n",
    "print(entropy(p))"
   ]
  },
  {
   "cell_type": "code",
   "execution_count": 9,
   "metadata": {},
   "outputs": [
    {
     "name": "stdout",
     "output_type": "stream",
     "text": [
      "0.42857142857142855 0.14285714285714285\n",
      "0.9249331694381354\n"
     ]
    }
   ],
   "source": [
    "## Probabilty of playing on weak wind\n",
    "\n",
    "yes_prob = dict(df[df[\"Wind\"]==\"Weak\"].Play.value_counts())['Yes']/len(df)\n",
    "no_prob = dict(df[df[\"Wind\"]==\"Weak\"].Play.value_counts())['No']/len(df)\n",
    "print(yes_prob, no_prob)\n",
    "p = [yes_prob, no_prob]\n",
    "print(entropy(p))"
   ]
  },
  {
   "cell_type": "markdown",
   "metadata": {},
   "source": [
    "Given p stands for \"probability of\",\n",
    "\n",
    "for Wind = {Weak, Strong}:\n",
    "\n",
    "$I(Decision; Wind) = H(Decision) - \\sum p(Wind) * Entropy(Decision | Wind)$\n",
    "We can break this down further:\n",
    "\n",
    "$H(Decision) - \\sum p(Wind) * Entropy(Decision | Wind)$\n",
    "\n",
    "$=$\n",
    "\n",
    "$H(Decision) - (p(Wind = Weak) * H(Decision | Wind = Weak) + p(Wind = Strong) * H(Decision | Wind = Strong)) = 0.048$"
   ]
  },
  {
   "cell_type": "code",
   "execution_count": 10,
   "metadata": {},
   "outputs": [],
   "source": [
    "def calc_entropy(colm, val_1, val_2):\n",
    "    yes_prob = dict(data[colm].value_counts())[val_1]/len(data)\n",
    "    no_prob = dict(data[colm].value_counts())[val_2]/len(data)\n",
    "    print(yes_prob, no_prob)\n",
    "    p = [yes_prob, no_prob]\n",
    "    return(entropy(p))\n",
    "\n",
    "\n",
    "def calc_entropy2(colm1, colm2, val_1, val_2, val_3):\n",
    "    yes_prob = dict(df[df[colm1]==val_3][colm2].value_counts())[val_1]/len(data)\n",
    "    no_prob = dict(df[df[colm1]==val_3][colm2].value_counts())[val_2]/len(data)\n",
    "    print(yes_prob, no_prob)\n",
    "    p = [yes_prob, no_prob]\n",
    "    return(entropy(p))"
   ]
  },
  {
   "cell_type": "code",
   "execution_count": 11,
   "metadata": {},
   "outputs": [
    {
     "name": "stdout",
     "output_type": "stream",
     "text": [
      "0.42857142857142855 0.5714285714285714\n",
      "0.6428571428571429 0.35714285714285715\n",
      "0.21428571428571427 0.21428571428571427\n",
      "0.42857142857142855 0.14285714285714285\n"
     ]
    }
   ],
   "source": [
    "entropy_wind = calc_entropy(\"Wind\", \"Strong\", \"Weak\")\n",
    "entropy_decision = calc_entropy(\"Play\", \"Yes\", \"No\")\n",
    "\n",
    "\n",
    "prob_strong_wind = data.Wind.value_counts()[\"Strong\"]/len(data.Wind)\n",
    "prob_weak_wind = data.Wind.value_counts()[\"Weak\"]/len(data.Wind)\n",
    "\n",
    "\n",
    "entropy_decision_strong_wind = calc_entropy2(\"Wind\", \"Play\", \"Yes\", \"No\", \"Strong\")\n",
    "entropy_decision_weak_wind = calc_entropy2(\"Wind\", \"Play\", \"Yes\", \"No\", \"Weak\")"
   ]
  },
  {
   "cell_type": "code",
   "execution_count": 12,
   "metadata": {},
   "outputs": [
    {
     "data": {
      "text/plain": [
       "0.003558192623777545"
      ]
     },
     "execution_count": 12,
     "metadata": {},
     "output_type": "execute_result"
    }
   ],
   "source": [
    "Output = entropy_decision - (prob_weak_wind * entropy_decision_weak_wind + prob_strong_wind * entropy_decision_strong_wind)\n",
    "Output"
   ]
  },
  {
   "cell_type": "code",
   "execution_count": null,
   "metadata": {},
   "outputs": [],
   "source": []
  }
 ],
 "metadata": {
  "kernelspec": {
   "display_name": "Python 3",
   "language": "python",
   "name": "python3"
  },
  "language_info": {
   "codemirror_mode": {
    "name": "ipython",
    "version": 3
   },
   "file_extension": ".py",
   "mimetype": "text/x-python",
   "name": "python",
   "nbconvert_exporter": "python",
   "pygments_lexer": "ipython3",
   "version": "3.8.1"
  }
 },
 "nbformat": 4,
 "nbformat_minor": 4
}
