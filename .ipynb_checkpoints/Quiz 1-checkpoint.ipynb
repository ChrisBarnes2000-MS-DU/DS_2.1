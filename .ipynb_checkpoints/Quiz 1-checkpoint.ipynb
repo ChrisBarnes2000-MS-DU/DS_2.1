{
 "cells": [
  {
   "cell_type": "markdown",
   "metadata": {},
   "source": [
    "# Quiz:\n",
    "\n",
    "- So far, we have learned three classifiers. What are their names?\n",
    "\n",
    "\n",
    "- Which one has visual structure that we can build its structure and plot it? Describe the steps to build its structure.\n",
    "\n",
    "Obtain the entropy of a fair dice. \n",
    "\n",
    "\n",
    "Hint:\n",
    "\n",
    "import numpy as np\n",
    "\n",
    "def entropy(p):\n",
    "    H = np.array([-i*np.log2(i) for i in p]).sum()\n",
    "    return H\n",
    "    \n",
    "\n",
    "Compare it to the entropy of an unfair dice."
   ]
  },
  {
   "cell_type": "markdown",
   "metadata": {},
   "source": [
    "## 1 So far, we have learned three classifiers. What are their names?\n",
    "- Logistic Regression\n",
    "- Support Vector Machines\n",
    "- Decision Trees"
   ]
  },
  {
   "cell_type": "markdown",
   "metadata": {},
   "source": [
    "Incorrect answer for Q2\n",
    "<!-- ## 2.a Which one has visual structure that we can build its structure and plot it? \n",
    "Support Vector Machines\n",
    "\n",
    "## 2.b Describe the steps to build its structure.\n",
    "1. import svm\n",
    "    - from sklearn import svm\n",
    "2. We want to use a linear classification\n",
    "    - svm_classifier = svm.SVC(kernel='poly',C=1, degree=2)\n",
    "    - svm_classifier = svm.SVC(kernel='linear', C=10)\n",
    "3. find the best fit line\n",
    "    - svm_classifier.fit(X_train, y_train)\n",
    "4. use a Helper function to plot the best fit line,\n",
    "5. pass in the trained model and data points, and plot the best fit line + margins\n",
    "    - plot_decision_boundary(svm_classifier, X_train, y_train)\n",
    "6. plot data points + color/labels -->"
   ]
  },
  {
   "cell_type": "markdown",
   "metadata": {},
   "source": [
    "## 2.a Which one has visual structure that we can build its structure and plot it? \n",
    "Decision Trees\n",
    "\n",
    "## 2.b Describe the steps to build its structure.\n",
    "1. determin the root of the tree --> obtain entropy of label colum\n",
    "2. pick a feature --> obtain all of its probabilities\n",
    "3. obtain entropy of target for each category in our picked feature\n",
    "4. obtain the information gain between our picked feature and label colum\n",
    "\n",
    "    - Do the above steps for all features. The Maximum information gain would be the root\n",
    "    - Then, we will do data slicing for the root and repeat the above steps for the sliced dataset\n"
   ]
  },
  {
   "cell_type": "code",
   "execution_count": 1,
   "metadata": {},
   "outputs": [],
   "source": [
    "import numpy as np\n",
    "\n",
    "def entropy(p):\n",
    "    H = np.array([-i*np.log2(i) for i in p]).sum()\n",
    "    return H"
   ]
  },
  {
   "cell_type": "code",
   "execution_count": 2,
   "metadata": {},
   "outputs": [
    {
     "data": {
      "text/plain": [
       "0.16666666666666666"
      ]
     },
     "execution_count": 2,
     "metadata": {},
     "output_type": "execute_result"
    }
   ],
   "source": [
    "1/6"
   ]
  },
  {
   "cell_type": "code",
   "execution_count": 7,
   "metadata": {},
   "outputs": [
    {
     "name": "stdout",
     "output_type": "stream",
     "text": [
      "2.584505478306228\n",
      "1.7977668315442263\n"
     ]
    }
   ],
   "source": [
    "# Fair Dice\n",
    "p = [0.1666, 0.1666, 0.1666, 0.1666, 0.1666, 0.1666]\n",
    "print(entropy(p))\n",
    "\n",
    "# Unfair Dice\n",
    "p = [0.9, 0.1, 0.1, 0.1, 0.1, 0.1]\n",
    "print(entropy(p))"
   ]
  },
  {
   "cell_type": "code",
   "execution_count": null,
   "metadata": {},
   "outputs": [],
   "source": []
  }
 ],
 "metadata": {
  "kernelspec": {
   "display_name": "Python 3",
   "language": "python",
   "name": "python3"
  },
  "language_info": {
   "codemirror_mode": {
    "name": "ipython",
    "version": 3
   },
   "file_extension": ".py",
   "mimetype": "text/x-python",
   "name": "python",
   "nbconvert_exporter": "python",
   "pygments_lexer": "ipython3",
   "version": "3.7.6"
  }
 },
 "nbformat": 4,
 "nbformat_minor": 4
}
