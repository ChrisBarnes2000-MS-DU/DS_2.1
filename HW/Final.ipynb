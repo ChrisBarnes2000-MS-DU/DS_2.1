{
 "cells": [
  {
   "cell_type": "markdown",
   "metadata": {},
   "source": [
    "# Final Project Options:\n",
    "1- Apply supervised or un-supervised models to a dataset (or problem) you are interested in. Investigate variety of steps\n",
    "to make the model better including:\n",
    "  - Hyper-parameter tuning by Grid-search\n",
    "  - Check if dataset is balanced or not -> change the threshold\n",
    "  - Data preprocessing (scaling)\n",
    "  - Dimensionality reduction (PCA) -> train the model based on X_reduced_train and Y_reduced_train\n",
    "  - Eliminate unnecessary features -> Feature Engineering\n",
    "  - Try other models and do the above all steps\n",
    "\n",
    "2- Read blogs about Feature Engineering and make your model performance better with variety of Feature Engineering options:\n",
    "- https://towardsdatascience.com/feature-selection-correlation-and-p-value-da8921bfb3cf\n",
    "- https://towardsdatascience.com/feature-selection-with-pandas-e3690ad8504b\n",
    "\n",
    "3- Build a Decision Tree (DT) classifier from Scratch (you can use Pandas or any other Python built-in functions) and provide DT visualization. For any categorical dataset, your function should return the optimal tree with the root and all appropriate leafs, max_depth of the tree and the visualized graph. You can follow the steps we explored in class but should work for any dataset for example if we pass Lens dataset. \n",
    "\n",
    "Option 1 is solo but you can work as a group for options 2 or 3."
   ]
  },
  {
   "cell_type": "code",
   "execution_count": null,
   "metadata": {},
   "outputs": [],
   "source": []
  },
  {
   "cell_type": "markdown",
   "metadata": {},
   "source": [
    "1- Apply supervised or un-supervised models to a dataset (or problem) you are interested in. Investigate variety of steps to make the model better including:\n",
    "\n",
    "    Hyper-parameter tuning by Grid-search\n",
    "    Check if dataset is balanced or not -> change the threshold\n",
    "    Data preprocessing (scaling)\n",
    "    Dimensionality reduction (PCA) -> train the model based on X_reduced_train and Y_reduced_train\n",
    "    Eliminate unnecessary features -> Feature Engineering\n",
    "    Try other models and do the above all steps"
   ]
  },
  {
   "cell_type": "code",
   "execution_count": null,
   "metadata": {},
   "outputs": [],
   "source": []
  }
 ],
 "metadata": {
  "kernelspec": {
   "display_name": "Python 3",
   "language": "python",
   "name": "python3"
  },
  "language_info": {
   "codemirror_mode": {
    "name": "ipython",
    "version": 3
   },
   "file_extension": ".py",
   "mimetype": "text/x-python",
   "name": "python",
   "nbconvert_exporter": "python",
   "pygments_lexer": "ipython3",
   "version": "3.7.6"
  }
 },
 "nbformat": 4,
 "nbformat_minor": 4
}
