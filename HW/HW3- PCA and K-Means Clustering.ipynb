{
 "cells": [
  {
   "cell_type": "markdown",
   "metadata": {},
   "source": [
    "# Apply PCA and Clustering to Wholesale Customer Data\n",
    "In this homework, we'll examine the [Wholesale Customers Dataset](https://archive.ics.uci.edu/ml/datasets/Wholesale+customers), which we'll get from the UCI Machine Learning Datasets repository. This dataset contains the purchase records from clients of a wholesale distributor. It details the total annual purchases across categories seen in the data dictionary below:\n",
    "\n",
    "| Category | Description |\n",
    "|----------|-------------|\n",
    "CHANNEL\t|1= Hotel/Restaurant/Cafe, 2=Retailer (Nominal)|\n",
    "REGION\t|Geographic region of Portugal for each order (Nominal)|\n",
    "FRESH\t|Annual spending (m.u.) on fresh products (Continuous);|\n",
    "MILK\t|Annual spending (m.u.) on milk products (Continuous);|\n",
    "GROCERY\t|Annual spending (m.u.)on grocery products (Continuous);|\n",
    "FROZEN\t|Annual spending (m.u.)on frozen products (Continuous)|\n",
    "DETERGENTS_PAPER\t|Annual spending (m.u.) on detergents and paper products (Continuous)|\n",
    "DELICATESSEN\t|Annual spending (m.u.)on and delicatessen products (Continuous);|\n",
    "\n",
    "**TASK**: \n",
    "1. Read in wholesale_customers_data.csv from the datasets folder and store in a dataframe. \n",
    "2. Store the Channel column in a separate variable, and then drop the Channel and Region columns from the dataframe. \n",
    "3. Scale the data and use PCA to engineer new features (Principal Components).\n",
    "4. Print out the explained variance for each principal component.\n",
    "\n",
    "## K-Means, but Without All the Supervision\n",
    "**Challenge**: Use K-Means clustering on the wholesale_customers dataset, and then again on a version of this dataset transformed by PCA.\n",
    "\n",
    "1. √ Read in the data from the wholesale_customers_data.csv file contained within the datasets folder.\n",
    "2. √ Store the Channel column in a separate variable, and then drop the Region and Channel columns from the dataframe. \n",
    "    - Channel will act as our labels to tell us what class of customer each datapoint actually is, in case we want to check the accuracy of our clustering.\n",
    "3. Scale the data, fit a k-means object to it, and then visualize the data and the clustering.\n",
    "4. Use PCA to transform the data, and then use k-means clustering on it to see if our results are any better.\n",
    "\n",
    "**Challenge**: Use the confusion matrix function to create a confusion matrix and see how accurate our clustering algorithms were. Which did better--scaled data, or data transformed by PCA?"
   ]
  },
  {
   "cell_type": "code",
   "execution_count": 1,
   "metadata": {},
   "outputs": [],
   "source": [
    "from sklearn.cluster import KMeans\n",
    "from sklearn.decomposition import PCA\n",
    "from sklearn.metrics import r2_score, mean_squared_error\n",
    "from sklearn.model_selection import train_test_split\n",
    "from sklearn.linear_model import LinearRegression, LogisticRegression\n",
    "from sklearn.preprocessing import StandardScaler\n",
    "from sklearn import metrics, preprocessing, svm\n",
    "from scipy.spatial import distance\n",
    "import matplotlib.pyplot as plt\n",
    "import pandas as pd\n",
    "import numpy as np\n",
    "import scipy\n",
    "import seaborn as sns"
   ]
  },
  {
   "cell_type": "code",
   "execution_count": 2,
   "metadata": {},
   "outputs": [],
   "source": [
    "def distortions_Inertia(Data):\n",
    "    distortions = []\n",
    "    K = range(1, 10)\n",
    "    for k in K:\n",
    "        # fit the k-means for a given k to the data (X)\n",
    "        km = KMeans(n_clusters=k)\n",
    "        km.fit(Data)\n",
    "        # distance.cdist finds the squared distances\n",
    "        # axis=1 allows us to keep the min for each sample, not jsut the min across the entire dataset\n",
    "        # find the closest distance for each sample to a center, and take the average\n",
    "        distortions.append(sum(np.min(distance.cdist(Data, km.cluster_centers_, 'euclidean'), axis=1)) / Data.shape[0])\n",
    "\n",
    "    # Plot the elbow: bx- = use a solid (-) blue (b) line, \n",
    "    # and mark the x-axis points with an x (x)\n",
    "    plt.plot(K, distortions, 'bx-')\n",
    "    plt.xlabel('k')\n",
    "    plt.ylabel('Distortion')\n",
    "    plt.title('The Elbow Method showing the optimal k')\n",
    "    plt.show()\n",
    "#     ------------------------------------------------------\n",
    "    sum_of_squared_distances = []\n",
    "    K = range(1,15)\n",
    "    for k in K:\n",
    "        km = KMeans(n_clusters=k)\n",
    "        km.fit(Data)\n",
    "        # inertia is an attribute of km!\n",
    "        # https://scikit-learn.org/stable/modules/generated/sklearn.cluster.KMeans.html#sklearn.cluster.KMeans\n",
    "        sum_of_squared_distances.append(km.inertia_)\n",
    "\n",
    "\n",
    "    # Plot the elbow\n",
    "    plt.plot(K, sum_of_squared_distances, 'bx-')\n",
    "    plt.xlabel('k')\n",
    "    plt.ylabel('Inertia')\n",
    "    plt.title('The Elbow Method showing the optimal k')\n",
    "    plt.show()"
   ]
  },
  {
   "cell_type": "markdown",
   "metadata": {},
   "source": [
    "## 1. Read in wholesale_customers_data.csv from the datasets folder and store in a dataframe. \n",
    "Read in the data from the wholesale_customers_data.csv file contained within the datasets folder."
   ]
  },
  {
   "cell_type": "code",
   "execution_count": 3,
   "metadata": {},
   "outputs": [],
   "source": [
    "data = pd.read_csv('wholesale_customers_data.csv')"
   ]
  },
  {
   "cell_type": "markdown",
   "metadata": {},
   "source": [
    "## 2. Store the Channel column in a separate variable, and then drop the Channel and Region columns from the dataframe.\n",
    "Store the Channel column in a separate variable, and then drop the Region and Channel columns from the dataframe."
   ]
  },
  {
   "cell_type": "code",
   "execution_count": 4,
   "metadata": {},
   "outputs": [
    {
     "name": "stdout",
     "output_type": "stream",
     "text": [
      "     Fresh   Milk  Grocery  Frozen  Detergents_Paper  Delicassen\n",
      "0    12669   9656     7561     214              2674        1338\n",
      "1     7057   9810     9568    1762              3293        1776\n",
      "2     6353   8808     7684    2405              3516        7844\n",
      "3    13265   1196     4221    6404               507        1788\n",
      "4    22615   5410     7198    3915              1777        5185\n",
      "..     ...    ...      ...     ...               ...         ...\n",
      "435  29703  12051    16027   13135               182        2204\n",
      "436  39228   1431      764    4510                93        2346\n",
      "437  14531  15488    30243     437             14841        1867\n",
      "438  10290   1981     2232    1038               168        2125\n",
      "439   2787   1698     2510      65               477          52\n",
      "\n",
      "[440 rows x 6 columns]\n"
     ]
    }
   ],
   "source": [
    "# Channel will act as our labels to tell us what class of customer each datapoint actually is,\n",
    "# in case we want to check the accuracy of our clustering.\n",
    "Channel = data['Channel']\n",
    "data = data.drop(columns=['Channel', 'Region'])\n",
    "print(data)"
   ]
  },
  {
   "cell_type": "markdown",
   "metadata": {},
   "source": [
    "## 3. Scale the data and use PCA to engineer new features (Principal Components).\n",
    "Scale the data, fit a k-means object to it, and then visualize the data and the clustering.\n"
   ]
  },
  {
   "cell_type": "code",
   "execution_count": 5,
   "metadata": {},
   "outputs": [
    {
     "data": {
      "image/png": "[encoded data removed]",
      "text/plain": [
       "<Figure size 432x288 with 1 Axes>"
      ]
     },
     "metadata": {
      "needs_background": "light"
     },
     "output_type": "display_data"
    },
    {
     "data": {
      "image/png": "[encoded data removed]",
      "text/plain": [
       "<Figure size 432x288 with 1 Axes>"
      ]
     },
     "metadata": {
      "needs_background": "light"
     },
     "output_type": "display_data"
    }
   ],
   "source": [
    "distortions_Inertia(data)"
   ]
  },
  {
   "cell_type": "code",
   "execution_count": 6,
   "metadata": {},
   "outputs": [
    {
     "data": {
      "text/plain": [
       "<matplotlib.collections.PathCollection at 0x128689550>"
      ]
     },
     "execution_count": 6,
     "metadata": {},
     "output_type": "execute_result"
    },
    {
     "data": {
      "image/png": "[encoded data removed]",
      "text/plain": [
       "<Figure size 432x288 with 1 Axes>"
      ]
     },
     "metadata": {
      "needs_background": "light"
     },
     "output_type": "display_data"
    }
   ],
   "source": [
    "scalar = StandardScaler()\n",
    "scalar.fit(data)\n",
    "StandardScaler(copy=True, with_mean=True, with_std=True)\n",
    "tra = scalar.fit_transform(data)\n",
    "plt.scatter(tra[:, 0], tra[:, 1])"
   ]
  },
  {
   "cell_type": "code",
   "execution_count": 7,
   "metadata": {
    "scrolled": false
   },
   "outputs": [
    {
     "name": "stdout",
     "output_type": "stream",
     "text": [
      "--k-means Data computation--\n",
      "[[  6683.06666667  17468.03333333  26658.93333333   1986.3\n",
      "   11872.9          2531.2       ]\n",
      " [  4552.30555556   2572.08333333   3080.52777778   2317.6875\n",
      "     849.86111111    840.96527778]\n",
      " [ 26281.04166667   5432.89583333   7230.89583333   4384.95833333\n",
      "    1419.95833333   2283.375     ]\n",
      " [ 25603.          43460.6         61472.2          2636.\n",
      "   29974.2          2708.8       ]\n",
      " [  4443.22988506   8716.5862069   12616.68965517   1456.17241379\n",
      "    5391.33333333   1512.42528736]\n",
      " [112151.          29627.          18148.          16745.\n",
      "    4948.           8550.        ]\n",
      " [ 34782.          30367.          16898.          48701.5\n",
      "     755.5         26776.        ]\n",
      " [ 14908.36538462   2593.53846154   3515.08653846   3736.96153846\n",
      "     772.73076923   1099.58653846]\n",
      " [ 48202.94736842   3127.47368421   4504.68421053   5535.63157895\n",
      "     810.10526316   2248.52631579]]\n",
      "\n",
      "--k-means prediction--\n",
      "0     30\n",
      "1    144\n",
      "2     48\n",
      "3      5\n",
      "4     87\n",
      "5      1\n",
      "6      2\n",
      "7    104\n",
      "8     19\n",
      "dtype: int64\n",
      "--Scaled k-means computation--\n",
      "[[ 2.37354955e-01 -2.94166539e-01 -4.25463254e-01  1.43620814e+00\n",
      "  -4.93167895e-01 -1.95120482e-02]\n",
      " [-5.35510681e-01  4.22469954e-01  5.50853646e-01 -2.98700016e-01\n",
      "   5.11139381e-01  4.45615405e-02]\n",
      " [-4.12388466e-01  1.60719713e+00  1.97759004e+00 -2.38481173e-01\n",
      "   2.20108210e+00  4.51264956e-01]\n",
      " [ 1.96681731e+00  5.17550306e+00  1.28721685e+00  6.90059988e+00\n",
      "  -5.54861977e-01  1.64784475e+01]\n",
      " [ 1.01390502e+00 -2.88185960e-01 -3.10191465e-01 -1.87845640e-01\n",
      "  -3.72798371e-01 -3.41708970e-04]\n",
      " [ 1.07676383e+00  5.10911660e+00  5.63831714e+00 -8.98985393e-02\n",
      "   5.68883695e+00  4.20295281e-01]\n",
      " [ 7.92784210e-01  5.61685048e-01 -1.13014360e-02  9.25255676e+00\n",
      "  -4.64047057e-01  9.33164138e-01]\n",
      " [ 3.83071671e+00  7.21166874e-02 -7.32938902e-02  1.32245668e+00\n",
      "  -3.21654227e-01  7.38769230e-01]\n",
      " [-4.23366711e-01 -4.46837147e-01 -5.05998815e-01 -2.89490075e-01\n",
      "  -4.45453621e-01 -2.42880680e-01]]\n",
      "\n",
      "--Scaled k-means prediction--\n",
      "0     43\n",
      "1     96\n",
      "2     26\n",
      "3      1\n",
      "4     76\n",
      "5      5\n",
      "6      2\n",
      "7     11\n",
      "8    180\n",
      "dtype: int64\n",
      "\n",
      "--PCA computation--\n",
      "[[   650.02212207   1585.51909007    -95.39064375   4540.78048148\n",
      "    -356.63711837    226.71184804]\n",
      " [ -4426.80497937   4042.45150884   1534.80474393   2567.65565913\n",
      "     -44.39428259    468.93801652]\n",
      " [ -4841.9987068    2578.762176     3801.38479014   2273.49433697\n",
      "    5245.3854378   -2141.12332875]\n",
      " ...\n",
      " [  4555.11499863  26201.75860287  -5887.43291863  -2082.90687562\n",
      "     -29.79580385  -1030.68216765]\n",
      " [ -2734.37092005  -7070.77533531   -790.70302471   1344.54788768\n",
      "    1448.4127231    -219.12615672]\n",
      " [-10370.12531409  -6161.46490876  -1017.14238084   1283.65788577\n",
      "     -80.6767127     297.82017043]]\n"
     ]
    }
   ],
   "source": [
    "print(\"--k-means Data computation--\")\n",
    "# k-means algorithm where k = 9\n",
    "km = KMeans(n_clusters=9)\n",
    "# km = KMeans(n_clusters=2)\n",
    "# perform k-means clustering on the dataset\n",
    "km.fit(data)\n",
    "# print the 9 cluster centers\n",
    "print(km.cluster_centers_)\n",
    "\n",
    "\n",
    "print(\"\\n--k-means prediction--\")\n",
    "print(pd.Series(km.predict(data)).value_counts().sort_index())\n",
    "\n",
    "\n",
    "print(\"--Scaled k-means computation--\")\n",
    "# k-means algorithm where k = 9\n",
    "km = KMeans(n_clusters=9)\n",
    "# km = KMeans(n_clusters=2)\n",
    "# perform k-means clustering on the dataset\n",
    "km.fit(tra)\n",
    "# print the 9 cluster centers\n",
    "print(km.cluster_centers_)\n",
    "\n",
    "\n",
    "print(\"\\n--Scaled k-means prediction--\")\n",
    "print(pd.Series(km.predict(tra)).value_counts().sort_index())\n",
    "\n",
    "\n",
    "print(\"\\n--PCA computation--\")\n",
    "# PCA computation by sklearn\n",
    "pca = PCA(n_components=6)\n",
    "# pca = PCA(n_components=2)\n",
    "\n",
    "# Find the principle components of 6 features\n",
    "X_r = pca.fit_transform(data)\n",
    "print(X_r)"
   ]
  },
  {
   "cell_type": "code",
   "execution_count": null,
   "metadata": {},
   "outputs": [],
   "source": []
  },
  {
   "cell_type": "markdown",
   "metadata": {},
   "source": [
    "## 4. Print out the explained variance for each principal component.\n",
    "Use PCA to transform the data, and then use k-means clustering on it to see if our results are any better."
   ]
  },
  {
   "cell_type": "code",
   "execution_count": 8,
   "metadata": {},
   "outputs": [
    {
     "name": "stdout",
     "output_type": "stream",
     "text": [
      "[1.64995904e+08 1.45452098e+08 2.51399785e+07 1.58039005e+07\n",
      " 5.39276364e+06 2.20364065e+06]\n",
      "--\n",
      "[0.45961362 0.40517227 0.07003008 0.04402344 0.01502212 0.00613848]\n",
      "--\n",
      "[0.45961362 0.86478588 0.93481597 0.97883941 0.99386152 1.        ]\n"
     ]
    }
   ],
   "source": [
    "# print(X_r)\n",
    "# print(\"--\")\n",
    "print(pca.explained_variance_)\n",
    "print(\"--\")\n",
    "print(pca.explained_variance_ratio_)\n",
    "print(\"--\")\n",
    "print(pca.explained_variance_ratio_.cumsum())"
   ]
  },
  {
   "cell_type": "markdown",
   "metadata": {},
   "source": [
    "## How to calculate the correlation of the principle components:"
   ]
  },
  {
   "cell_type": "code",
   "execution_count": 9,
   "metadata": {},
   "outputs": [
    {
     "name": "stdout",
     "output_type": "stream",
     "text": [
      "Correlation of PCA Component:\n",
      "(-5.3017486234541167e-17, 1.0000000000001332)\n"
     ]
    }
   ],
   "source": [
    "print('Correlation of PCA Component:')\n",
    "print(scipy.stats.pearsonr(X_r[:, 0], X_r[:, 1]))"
   ]
  },
  {
   "cell_type": "code",
   "execution_count": null,
   "metadata": {},
   "outputs": [],
   "source": []
  },
  {
   "cell_type": "code",
   "execution_count": null,
   "metadata": {},
   "outputs": [],
   "source": []
  },
  {
   "cell_type": "code",
   "execution_count": null,
   "metadata": {},
   "outputs": [],
   "source": []
  },
  {
   "cell_type": "code",
   "execution_count": 10,
   "metadata": {},
   "outputs": [],
   "source": [
    "# confusion = metrics.confusion_matrix(y_test, y_pred)\n",
    "# print(confusion)\n",
    "\n",
    "# TP = confusion[1, 1]\n",
    "# TN = confusion[0, 0]\n",
    "# FP = confusion[0, 1]\n",
    "# FN = confusion[1, 0]\n",
    "\n",
    "\n",
    "# accuracy=(𝑇𝑃+𝑇𝑁)/(𝑇𝑃+𝑇𝑁+𝐹𝑃+𝐹𝑁)\n",
    "# print(\"𝑎𝑐𝑐𝑢𝑟𝑎𝑐𝑦:\", accuracy)\n",
    "\n",
    "# error=(𝐹𝑃+𝐹𝑁)/(𝑇𝑃+𝑇𝑁+𝐹𝑃+𝐹𝑁)\n",
    "# print(\"𝑒𝑟𝑟𝑜𝑟 =1−𝑎𝑐𝑐𝑢𝑟𝑎𝑐𝑦:\", error)\n",
    "\n",
    "# 𝑟𝑒𝑐𝑎𝑙𝑙=𝑇𝑃/(𝑇𝑃+𝐹𝑁)\n",
    "# print(\"𝑟𝑒𝑐𝑎𝑙𝑙\", 𝑟𝑒𝑐𝑎𝑙𝑙)\n",
    "\n",
    "# 𝑝𝑟𝑒𝑐𝑖𝑠𝑖𝑜𝑛=𝑇𝑃/(𝑇𝑃+𝐹𝑃)\n",
    "# print(\"𝑝𝑟𝑒𝑐𝑖𝑠𝑖𝑜𝑛\", 𝑝𝑟𝑒𝑐𝑖𝑠𝑖𝑜𝑛)\n",
    "\n",
    "# 𝑆𝑝𝑒𝑐𝑖𝑓𝑖𝑐𝑖𝑡𝑦=𝑇𝑁/(𝑇𝑁+𝐹𝑃)\n",
    "# print(\"𝑆𝑝𝑒𝑐𝑖𝑓𝑖𝑐𝑖𝑡𝑦\", 𝑆𝑝𝑒𝑐𝑖𝑓𝑖𝑐𝑖𝑡𝑦)\n",
    "\n",
    "# F1 = 2*(𝑝𝑟𝑒𝑐𝑖𝑠𝑖𝑜𝑛 * 𝑟𝑒𝑐𝑎𝑙𝑙 )/(𝑝𝑟𝑒𝑐𝑖𝑠𝑖𝑜𝑛 + 𝑟𝑒𝑐𝑎𝑙𝑙)\n",
    "# print(\"f1\", F1)"
   ]
  },
  {
   "cell_type": "code",
   "execution_count": null,
   "metadata": {},
   "outputs": [],
   "source": []
  }
 ],
 "metadata": {
  "kernelspec": {
   "display_name": "Python 3",
   "language": "python",
   "name": "python3"
  },
  "language_info": {
   "codemirror_mode": {
    "name": "ipython",
    "version": 3
   },
   "file_extension": ".py",
   "mimetype": "text/x-python",
   "name": "python",
   "nbconvert_exporter": "python",
   "pygments_lexer": "ipython3",
   "version": "3.8.1"
  }
 },
 "nbformat": 4,
 "nbformat_minor": 4
}
