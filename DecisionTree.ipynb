{
 "cells": [
  {
   "cell_type": "code",
   "execution_count": 1,
   "metadata": {},
   "outputs": [],
   "source": [
    "from sklearn.model_selection import train_test_split\n",
    "from sklearn.linear_model import LogisticRegression\n",
    "from sklearn import metrics\n",
    "import matplotlib.pyplot as plt\n",
    "import pandas as pd\n",
    "import numpy as np"
   ]
  },
  {
   "cell_type": "markdown",
   "metadata": {},
   "source": [
    "# Decision Trees are based on Entropy\n",
    "Activity: Calculate the entropy for a coin\n",
    "Entropy shows the uncertainy of a random variable. The higher the entropy value, the more unncertain we are. Entropy is displayed as $H(X)$, where $X$ is a random variable\n",
    "\n",
    "The Entropy formula is the summation of probabilities multiplied by the log of probabilities:\n",
    "\n",
    "## Entropy of coin\n",
    "Given p stands for \"probability of\",\n",
    "\n",
    "for outcome in [H,T]:\n",
    "\n",
    "$H(Coin) = \\sum -p(outcome) * log_2(p(outcome)$\n",
    "\n",
    "## Entropy of a fair coin\n",
    "for p(outcome) in [p(H)=0.5, p(T)=0.5]):\n",
    "\n",
    "$H(Coin) = \\sum -p(outcome) * log_2(p(outcome)$"
   ]
  },
  {
   "cell_type": "code",
   "execution_count": 2,
   "metadata": {},
   "outputs": [
    {
     "name": "stdout",
     "output_type": "stream",
     "text": [
      "1.0\n",
      "0.4689955935892812\n"
     ]
    }
   ],
   "source": [
    "print((-0.5 * np.log2(0.5))+(-0.5 * np.log2(0.5)))\n",
    "\n",
    "print((-0.9 * np.log2(0.9))+(-0.1 * np.log2(0.1)))"
   ]
  },
  {
   "cell_type": "code",
   "execution_count": 3,
   "metadata": {},
   "outputs": [
    {
     "name": "stdout",
     "output_type": "stream",
     "text": [
      "1.0\n",
      "0.4689955935892812\n",
      "2.5849853457818157\n"
     ]
    }
   ],
   "source": [
    "def entropy(p):\n",
    "    H = np.array([-i*np.log2(i) for i in p]).sum()\n",
    "    return H\n",
    "    \n",
    "p = [.5, .5]\n",
    "print(entropy(p))\n",
    "\n",
    "p = [.9, .1]\n",
    "print(entropy(p))\n",
    "\n",
    "\n",
    "p = [.16667,.16667,.16667,.16667,.16667,.16667]\n",
    "print(entropy(p))"
   ]
  },
  {
   "cell_type": "markdown",
   "metadata": {},
   "source": [
    "# Activity: Obtain the following quantitites:\n",
    "In groups of 3: Using the tennis dataset, obtain the following quantities:\n",
    "\n",
    "## Entropy for PlayTennis:\n",
    "Obtain the entropy of thePlayTennis (Leaf/Decision) column.\n",
    "\n",
    "## Entropy for PlayTennis conditioned on Weak Wind factor\n",
    "Obtain the entropy of conditional probability p(PlayTennis | Wind = Weak) = [2/8, 6/8]\n",
    "\n",
    "## Entropy for PlayTennis conditioned on Strong Wind factor\n",
    "Obtain the entropy of conditional probability p(PlayTennis | Wind = Strong) = [3/6, 3/6]\n",
    "\n",
    "### Hints:\n",
    "\n",
    "p = [9/14, 5/14] which represents the probability that a player plays tennis (9/14 days) or not (5/14 days)\n",
    "Remember your Entropy function from earlier\n",
    "\n",
    "### Solutions\n",
    "Entropy(Decision) = – (9/14) . log2(9/14) – (5/14) . log2(5/14) = 0.940"
   ]
  },
  {
   "cell_type": "code",
   "execution_count": 4,
   "metadata": {},
   "outputs": [
    {
     "name": "stdout",
     "output_type": "stream",
     "text": [
      "     Outlook  Temp Humidity    Wind Play\n",
      "1      Sunny   Hot     High    Weak   No\n",
      "2      Sunny   Hot     High  Strong   No\n",
      "3   Overcast   Hot     High    Weak  Yes\n",
      "4       Rain  Mild     High    Weak  Yes\n",
      "5       Rain  Cool   Normal    Weak  Yes\n",
      "6       Rain  Cool   Normal  Strong   No\n",
      "7   Overcast  Cool   Normal  Strong  Yes\n",
      "8      Sunny  Mild     High    Weak   No\n",
      "9      Sunny  Cool   Normal    Weak  Yes\n",
      "10      Rain  Mild   Normal    Weak  Yes\n",
      "11     Sunny  Mild   Normal  Strong  Yes\n",
      "12  Overcast  Mild     High  Strong  Yes\n",
      "13  Overcast   Hot   Normal    Weak  Yes\n",
      "14      Rain  Mild     High  Strong   No\n"
     ]
    }
   ],
   "source": [
    "data = pd.read_csv('./Datasets/tennis.txt', delimiter=\"\\t\", header=None, names=['Outlook', 'Temp', 'Humidity', 'Wind', 'Play'])\n",
    "\n",
    "print(data)"
   ]
  },
  {
   "cell_type": "code",
   "execution_count": 5,
   "metadata": {},
   "outputs": [
    {
     "name": "stdout",
     "output_type": "stream",
     "text": [
      "0.6428571428571429 0.35714285714285715\n",
      "0.9402859586706311\n"
     ]
    }
   ],
   "source": [
    "yes_prob = dict(data.Play.value_counts())['Yes']/len(data)\n",
    "no_prob = dict(data.Play.value_counts())['No']/len(data)\n",
    "print(yes_prob, no_prob)\n",
    "p = [yes_prob, no_prob]\n",
    "print(entropy(p))"
   ]
  },
  {
   "cell_type": "markdown",
   "metadata": {},
   "source": [
    "Given p stands for \"probability of\",\n",
    "\n",
    "for Wind = {Weak, Strong}:\n",
    "\n",
    "$I(Decision; Wind) = H(Decision) - \\sum p(Wind) * Entropy(Decision | Wind)$\n",
    "We can break this down further:\n",
    "\n",
    "$H(Decision) - \\sum p(Wind) * Entropy(Decision | Wind)$\n",
    "\n",
    "$=$\n",
    "\n",
    "$H(Decision) - (p(Wind = Weak) * H(Decision | Wind = Weak) + p(Wind = Strong) * H(Decision | Wind = Strong)) = 0.048$"
   ]
  },
  {
   "cell_type": "code",
   "execution_count": 6,
   "metadata": {},
   "outputs": [],
   "source": [
    "def calc_entropy(colm, val_1, val_2):\n",
    "    yes_prob = dict(data[colm].value_counts())[val_1]/len(data)\n",
    "    no_prob = dict(data[colm].value_counts())[val_2]/len(data)\n",
    "    p = [yes_prob, no_prob]\n",
    "    ent_p = entropy(p)\n",
    "#     print(colm, \"\\t\\t\", p, \"\\nEntropy\\t\\t\", ent_p, \"\\n\")\n",
    "    return(ent_p)\n",
    "\n",
    "\n",
    "def calc_entropy2(colm1, colm2, val_1, val_2, val_3):\n",
    "    yes_prob = dict(data[data[colm1]==val_3][colm2].value_counts())[val_1]/len(data)\n",
    "    no_prob = dict(data[data[colm1]==val_3][colm2].value_counts())[val_2]/len(data)\n",
    "    p = [yes_prob, no_prob]\n",
    "    ent_p = entropy(p)\n",
    "#     print(colm1, colm2, \"\\t\", p, \"\\nEntropy\\t\\t\", ent_p, \"\\n\")\n",
    "    return(ent_p)\n",
    "\n",
    "\n",
    "# hint: helper function that takes a dataset (df) and one of its features (c1),\n",
    "# decision (c2), and condition of the feature (condition) as input, and outputs\n",
    "# the condiitional probability\n",
    "def conditional_prob(df, c1, c2, condition):\n",
    "    df_new = df[df[c1] == condition][c2]\n",
    "    s = df_new.unique()\n",
    "    population_size = len(df_new)\n",
    "    pr = {}\n",
    "    for i in s:\n",
    "        pr[i] = len(df[(df[c1] == condition) & (df[c2]== i)]) / population_size\n",
    "    return pr"
   ]
  },
  {
   "cell_type": "code",
   "execution_count": 7,
   "metadata": {},
   "outputs": [
    {
     "name": "stdout",
     "output_type": "stream",
     "text": [
      "p(Wind = Strong)\n",
      "Wind Strong 0.42857142857142855 \n",
      "\n",
      "p(Wind = Weak)\n",
      "Wind Weak 0.5714285714285714 \n",
      "\n",
      "decision_weak_wind {'No': 0.25, 'Yes': 0.75}\n",
      "entropy weak wind 0.8112781244591328\n",
      "decision_strong_wind {'No': 0.5, 'Yes': 0.5}\n",
      "entropy weak wind 1.0\n",
      "\n",
      "----\n",
      "\n",
      "H(Decision) - (p(Wind = Weak) * H(Decision | Wind = Weak) + p(Wind = Strong) * H(Decision | Wind = Strong)) = 0.048\n",
      "Expected Output: \t\t\t\t\t = 0.048\n",
      "Overall Entropy/Probabilty of playing based on wind\t = 0.04812703040826949\n"
     ]
    }
   ],
   "source": [
    "## Entropy/Probabilty of playing\n",
    "entropy_decision = calc_entropy(\"Play\", \"Yes\", \"No\")\n",
    "\n",
    "\n",
    "## Probabilty of strong wind\n",
    "prob_strong_wind = data.Wind.value_counts()[\"Strong\"]/len(data.Wind)\n",
    "print(\"p(Wind = Strong)\\nWind Strong\", prob_strong_wind, \"\\n\")\n",
    "## Probabilty of weak wind\n",
    "prob_weak_wind = data.Wind.value_counts()[\"Weak\"]/len(data.Wind)\n",
    "print(\"p(Wind = Weak)\\nWind Weak\", prob_weak_wind, \"\\n\")\n",
    "\n",
    "\n",
    "## Entropy/Probabilty of wind\n",
    "entropy_wind = calc_entropy(\"Wind\", \"Strong\", \"Weak\")\n",
    "\n",
    "\n",
    "# print(\"----\\n\")\n",
    "\n",
    "## Entropy/Probabilty of playing on strong wind\n",
    "# print(\"H(Decision | Wind = Strong)\")\n",
    "# entropy_decision_strong_wind = calc_entropy2(\"Wind\", \"Play\", \"Yes\", \"No\", \"Strong\")\n",
    "## Entropy/Probabilty of playing on weak wind\n",
    "# print(\"H(Decision | Wind = Weak)\")\n",
    "# entropy_decision_weak_wind = calc_entropy2(\"Wind\", \"Play\", \"Yes\", \"No\", \"Weak\")\n",
    "\n",
    "\n",
    "# print(\"-----or-----\\n\")\n",
    "\n",
    "\n",
    "# what are the probabilities of Play given Wind is Weak?\n",
    "pb_decision_weak_wind = conditional_prob(data,'Wind', 'Play', 'Weak')\n",
    "ep_decision_weak_wind = entropy([0.25, 0.75])\n",
    "print(\"decision_weak_wind\", pb_decision_weak_wind)\n",
    "print(\"entropy weak wind\", ep_decision_weak_wind)\n",
    "\n",
    "# what are the probabilities of Play given Wind is Strong?\n",
    "pb_decision_strong_wind = conditional_prob(data, 'Wind', 'Play', 'Strong')\n",
    "ep_decision_strong_wind = entropy([0.5, 0.5])\n",
    "print(\"decision_strong_wind\", pb_decision_strong_wind)\n",
    "print(\"entropy weak wind\", ep_decision_strong_wind)\n",
    "\n",
    "print(\"\\n----\\n\")\n",
    "\n",
    "## Overall Entropy/Probabilty of playing based on wind\n",
    "print(\"H(Decision) - (p(Wind = Weak) * H(Decision | Wind = Weak) + p(Wind = Strong) * H(Decision | Wind = Strong)) = 0.048\")\n",
    "# Output1 = entropy_decision - (prob_weak_wind * entropy_decision_weak_wind + prob_strong_wind * entropy_decision_strong_wind)\n",
    "print(\"Expected Output: \\t\\t\\t\\t\\t = 0.048\")\n",
    "# print(\"Overall Entropy/Probabilty of playing based on wind\\t =\", Output1)\n",
    "Output2 = entropy_decision - (prob_weak_wind * ep_decision_weak_wind + prob_strong_wind * ep_decision_strong_wind)\n",
    "print(\"Overall Entropy/Probabilty of playing based on wind\\t =\", Output2)"
   ]
  },
  {
   "cell_type": "code",
   "execution_count": null,
   "metadata": {},
   "outputs": [],
   "source": []
  },
  {
   "cell_type": "code",
   "execution_count": 8,
   "metadata": {},
   "outputs": [],
   "source": [
    "# inputs: dataset (df), a feature from the dataset (feature), and the target (decision)\n",
    "# returns: information gain between feature and decision\n",
    "def info_gain(df, feature, decision):\n",
    "    # obtain the entropy of the decision\n",
    "    dict_decision = dict(df[decision].value_counts())\n",
    "    prob_decision = [q for (p,q) in dict_decision.items()]/sum(dict_decision.values())\n",
    "    entropy_decision = entropy(prob_decision)\n",
    "#     print(entropy_decision)\n",
    "    \n",
    "    # obtain the probabilities of the feature\n",
    "    # example: for Wind, obtain the probabilities of Strong and Weak\n",
    "    dict_feature = dict(df[feature].value_counts())\n",
    "    dict_prob_feature = {}\n",
    "    for (p,q) in dict_feature.items():\n",
    "        dict_prob_feature[p] = q/sum(dict_feature.values())\n",
    "#     print(dict_prob_feature)\n",
    "    \n",
    "    # obtain the probability of the decision,\n",
    "    # for all possible values of the feature (conditions)\n",
    "    conditions = df[feature].unique()\n",
    "    dict_ = {}\n",
    "    for condition in conditions:\n",
    "        dict_[condition] = conditional_prob(df, feature, decision, condition)\n",
    "#     print(dict_)\n",
    "    \n",
    "    # Given the above metrics, calculate the information gain\n",
    "    # between the feature and the decision using the formula we learned\n",
    "    S = 0\n",
    "    for (i,j) in dict_.items():\n",
    "#         print(i,j)\n",
    "        prob_condition = list(dict_[i].values())\n",
    "#         print(entropy_condition)\n",
    "        S = S + dict_prob_feature[i]*entropy(prob_condition)\n",
    "#         print(dict_prob_feature[i]*entropy(entropy_condition))\n",
    "    print(entropy_decision - S)"
   ]
  },
  {
   "cell_type": "code",
   "execution_count": 9,
   "metadata": {},
   "outputs": [
    {
     "name": "stdout",
     "output_type": "stream",
     "text": [
      "0.04812703040826949\n",
      "0.15183550136234159\n",
      "0.02922256565895487\n",
      "0.24674981977443933\n"
     ]
    }
   ],
   "source": [
    "info_gain(data, 'Wind', 'Play')\n",
    "info_gain(data, 'Humidity', 'Play')\n",
    "info_gain(data, 'Temp', 'Play')\n",
    "info_gain(data, 'Outlook', 'Play')"
   ]
  },
  {
   "cell_type": "code",
   "execution_count": null,
   "metadata": {},
   "outputs": [],
   "source": []
  },
  {
   "cell_type": "code",
   "execution_count": null,
   "metadata": {},
   "outputs": [],
   "source": []
  },
  {
   "cell_type": "code",
   "execution_count": 11,
   "metadata": {},
   "outputs": [
    {
     "name": "stdout",
     "output_type": "stream",
     "text": [
      "     Outlook  Temp Humidity    Wind Play\n",
      "1      Sunny   Hot     High    Weak   No\n",
      "2      Sunny   Hot     High  Strong   No\n",
      "3   Overcast   Hot     High    Weak  Yes\n",
      "4       Rain  Mild     High    Weak  Yes\n",
      "5       Rain  Cool   Normal    Weak  Yes\n",
      "6       Rain  Cool   Normal  Strong   No\n",
      "7   Overcast  Cool   Normal  Strong  Yes\n",
      "8      Sunny  Mild     High    Weak   No\n",
      "9      Sunny  Cool   Normal    Weak  Yes\n",
      "10      Rain  Mild   Normal    Weak  Yes\n",
      "11     Sunny  Mild   Normal  Strong  Yes\n",
      "12  Overcast  Mild     High  Strong  Yes\n",
      "13  Overcast   Hot   Normal    Weak  Yes\n",
      "14      Rain  Mild     High  Strong   No\n",
      "    Outlook  Temp  Humidity  Wind  Play\n",
      "1         2     1         0     1     0\n",
      "2         2     1         0     0     0\n",
      "3         0     1         0     1     1\n",
      "4         1     2         0     1     1\n",
      "5         1     0         1     1     1\n",
      "6         1     0         1     0     0\n",
      "7         0     0         1     0     1\n",
      "8         2     2         0     1     0\n",
      "9         2     0         1     1     1\n",
      "10        1     2         1     1     1\n",
      "11        2     2         1     0     1\n",
      "12        0     2         0     0     1\n",
      "13        0     1         1     1     1\n",
      "14        1     2         0     0     0\n"
     ]
    },
    {
     "data": {
      "text/plain": [
       "True"
      ]
     },
     "execution_count": 11,
     "metadata": {},
     "output_type": "execute_result"
    }
   ],
   "source": [
    "import pandas as pd\n",
    "from sklearn.tree import DecisionTreeClassifier\n",
    "from sklearn import preprocessing\n",
    "from sklearn.tree import export_graphviz\n",
    "import pydotplus\n",
    "\n",
    "# read in the tennis data, need the extra parameters since it's a txt file\n",
    "data = pd.read_csv('./Datasets/tennis.txt', delimiter=\"\\t\", header=None, names=['Outlook', 'Temp', 'Humidity', 'Wind', 'Play'])\n",
    "print(data)\n",
    "\n",
    "# encode the data so we can use it with our decision tree,\n",
    "# by converting categories into numbers\n",
    "data_encoded = data.apply(preprocessing.LabelEncoder().fit_transform)\n",
    "print(data_encoded)\n",
    "\n",
    "# create our decision tree classifier with entropy\n",
    "clf = DecisionTreeClassifier(criterion='entropy', max_depth=3)\n",
    "\n",
    "# one_hot_data = pd.get_dummies(data[['a', 'b', 'c', 'd']], drop_first=True)\n",
    "# print(one_hot_data)\n",
    "\n",
    "# provide our feature array and target array (1-item),\n",
    "# and train the model using a decision tree\n",
    "clf.fit(data_encoded[['Outlook', 'Temp', 'Humidity', 'Wind']], data_encoded['Play'])\n",
    "\n",
    "# export our decision tree into data that can be plotted\n",
    "dot_data = export_graphviz(clf, out_file=None, feature_names=['Outlook', 'Temp.', 'Humidity', 'Wind'])\n",
    "\n",
    "# Draw graph\n",
    "graph = pydotplus.graph_from_dot_data(dot_data)\n",
    "graph.write_png('tennis_tree.png')"
   ]
  },
  {
   "cell_type": "code",
   "execution_count": null,
   "metadata": {},
   "outputs": [],
   "source": []
  }
 ],
 "metadata": {
  "kernelspec": {
   "display_name": "Python 3",
   "language": "python",
   "name": "python3"
  },
  "language_info": {
   "codemirror_mode": {
    "name": "ipython",
    "version": 3
   },
   "file_extension": ".py",
   "mimetype": "text/x-python",
   "name": "python",
   "nbconvert_exporter": "python",
   "pygments_lexer": "ipython3",
   "version": "3.8.1"
  }
 },
 "nbformat": 4,
 "nbformat_minor": 4
}
