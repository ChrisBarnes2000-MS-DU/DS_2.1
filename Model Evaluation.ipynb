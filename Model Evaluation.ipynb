{
 "cells": [
  {
   "cell_type": "code",
   "execution_count": 1,
   "metadata": {},
   "outputs": [
    {
     "data": {
      "text/plain": [
       "0    130\n",
       "1     62\n",
       "Name: Outcome, dtype: int64"
      ]
     },
     "execution_count": 1,
     "metadata": {},
     "output_type": "execute_result"
    }
   ],
   "source": [
    "from sklearn.model_selection import train_test_split\n",
    "from sklearn.linear_model import LogisticRegression\n",
    "from sklearn import metrics\n",
    "import matplotlib.pyplot as plt\n",
    "import pandas as pd\n",
    "import numpy as np\n",
    "\n",
    "pima = pd.read_csv('Datasets/diabetes.csv')\n",
    "\n",
    "feature_cols = ['Pregnancies', 'Insulin', 'BMI', 'Age']\n",
    "\n",
    "# X is a matrix, access the features we want in feature_cols\n",
    "X = pima[feature_cols]\n",
    "\n",
    "# y is a vector, hence we use dot to access 'label'\n",
    "y = pima['Outcome']\n",
    "\n",
    "# Instantiate logistic regression model\n",
    "logreg = LogisticRegression()\n",
    "\n",
    "# split X and y into training and testing sets\n",
    "X_train, X_test, y_train, y_test = train_test_split(\n",
    "    X, y, test_size=0.25, random_state=0)\n",
    "\n",
    "# fit model\n",
    "# Train the model with X_train and y_train\n",
    "logreg.fit(X_train, y_train)\n",
    "\n",
    "y_test.value_counts()"
   ]
  },
  {
   "cell_type": "markdown",
   "metadata": {},
   "source": [
    "# Obtain Accuracy, Precision, Recall, F1-score from below confusion matrix."
   ]
  },
  {
   "cell_type": "code",
   "execution_count": 2,
   "metadata": {},
   "outputs": [
    {
     "name": "stdout",
     "output_type": "stream",
     "text": [
      "[[118.  12.]\n",
      " [ 47.  15.]]\n"
     ]
    }
   ],
   "source": [
    "confusion = np.array([[118., 12.], [ 47., 15.]])\n",
    "\n",
    "# confusion = metrics.confusion_matrix(y_test, y_pred)\n",
    "print(confusion)\n",
    "\n",
    "TP = confusion[1, 1]\n",
    "TN = confusion[0, 0]\n",
    "FP = confusion[0, 1]\n",
    "FN = confusion[1, 0]"
   ]
  },
  {
   "cell_type": "markdown",
   "metadata": {},
   "source": [
    "\n",
    "# What is accuracy, recall, precision, Specificity and F1-score?\n",
    "Accuracy, recall, precision, Specificity and F1-score are all obtained from Confision Matrix elements known as : TN, FP, FN, TP\n",
    "Accuracy: overall, how often is the classifier correct? -> $accuracy = \\frac {TP + TN}{TP+TN+FP+FN}$\n",
    "\n",
    "Classification error: overall, how often is the classifier incorrect? -> $error = 1- accuracy = \\frac {FP + FN}{TP + TN + FP + FN}$\n",
    "\n",
    "Recall: when the actual value is positive, how often is the prediction correct? -> $recall = \\frac {TP}{TP + FN}$\n",
    "\n",
    "Precision: When a positive value is predicted, how often is the prediction correct? -> $precision = \\frac {TP}{TP + FP}$\n",
    "\n",
    "Specificity: When the actual value is negative, how often is the prediction correct? -> $Specificity = \\frac {TN}{TN + FP}$\n",
    "\n",
    "F1-score = 2 x (Precision x Recall )/(Precision + Recall)"
   ]
  },
  {
   "cell_type": "code",
   "execution_count": 3,
   "metadata": {},
   "outputs": [
    {
     "name": "stdout",
     "output_type": "stream",
     "text": [
      "𝑎𝑐𝑐𝑢𝑟𝑎𝑐𝑦: 0.6927083333333334\n",
      "𝑒𝑟𝑟𝑜𝑟 =1−𝑎𝑐𝑐𝑢𝑟𝑎𝑐𝑦: 0.3072916666666667\n",
      "𝑟𝑒𝑐𝑎𝑙𝑙 0.24193548387096775\n",
      "𝑝𝑟𝑒𝑐𝑖𝑠𝑖𝑜𝑛 0.5555555555555556\n",
      "𝑆𝑝𝑒𝑐𝑖𝑓𝑖𝑐𝑖𝑡𝑦 0.9076923076923077\n",
      "f1 0.3370786516853933\n"
     ]
    }
   ],
   "source": [
    "accuracy=(𝑇𝑃+𝑇𝑁)/(𝑇𝑃+𝑇𝑁+𝐹𝑃+𝐹𝑁)\n",
    "print(\"𝑎𝑐𝑐𝑢𝑟𝑎𝑐𝑦:\", accuracy)\n",
    "\n",
    "error=(𝐹𝑃+𝐹𝑁)/(𝑇𝑃+𝑇𝑁+𝐹𝑃+𝐹𝑁)\n",
    "print(\"𝑒𝑟𝑟𝑜𝑟 =1−𝑎𝑐𝑐𝑢𝑟𝑎𝑐𝑦:\", error)\n",
    "\n",
    "𝑟𝑒𝑐𝑎𝑙𝑙=𝑇𝑃/(𝑇𝑃+𝐹𝑁)\n",
    "print(\"𝑟𝑒𝑐𝑎𝑙𝑙\", 𝑟𝑒𝑐𝑎𝑙𝑙)\n",
    "\n",
    "𝑝𝑟𝑒𝑐𝑖𝑠𝑖𝑜𝑛=𝑇𝑃/(𝑇𝑃+𝐹𝑃)\n",
    "print(\"𝑝𝑟𝑒𝑐𝑖𝑠𝑖𝑜𝑛\", 𝑝𝑟𝑒𝑐𝑖𝑠𝑖𝑜𝑛)\n",
    "\n",
    "𝑆𝑝𝑒𝑐𝑖𝑓𝑖𝑐𝑖𝑡𝑦=𝑇𝑁/(𝑇𝑁+𝐹𝑃)\n",
    "print(\"𝑆𝑝𝑒𝑐𝑖𝑓𝑖𝑐𝑖𝑡𝑦\", 𝑆𝑝𝑒𝑐𝑖𝑓𝑖𝑐𝑖𝑡𝑦)\n",
    "\n",
    "F1 = 2*(𝑝𝑟𝑒𝑐𝑖𝑠𝑖𝑜𝑛 * 𝑟𝑒𝑐𝑎𝑙𝑙 )/(𝑝𝑟𝑒𝑐𝑖𝑠𝑖𝑜𝑛 + 𝑟𝑒𝑐𝑎𝑙𝑙)\n",
    "print(\"f1\", F1)"
   ]
  },
  {
   "cell_type": "markdown",
   "metadata": {},
   "source": [
    "## Activity (Reminder): How we can obtain y_pred (whose elements are 0 and 1) from :\n",
    "y_pred_prob = logreg.predict_proba(X_test)\n",
    "\n",
    "## Activity: Change the threshold of Logistic Regression (y_pred_prob) to get new confusion matrix and better model performance\n",
    "The question now is which threshold is better?\n",
    "\n",
    "To do this:\n",
    "\n",
    "1- Train logreg = LogisticRegression() and get y_pred_prob = logreg.predict_proba(X_test)\n",
    "\n",
    "2- The second column of y_pred_prob is the probability that a subject be diabetes\n",
    "\n",
    "3- Plot histogram of second column. Hint: plt.hist(y_pred_prob[:, 1], bins=8) plt.show()\n",
    "\n",
    "4- Count how many of y_train is 0 how many is 1. Define the/rshold as threshold = y_train.value_counts()[1] / len(y_train)\n",
    "\n",
    "5- Write a function that returns 0 if y_pred_prob[:, 1] is less than threshold, else returns 1 for all elements in y_pred_prob\n",
    "\n",
    "6- Calculate the Confuction Matrix by confusion = metrics.confusion_matrix(y_test, y_pred)"
   ]
  },
  {
   "cell_type": "code",
   "execution_count": 4,
   "metadata": {
    "scrolled": true
   },
   "outputs": [
    {
     "data": {
      "text/plain": [
       "array([[0.61405867, 0.38594133],\n",
       "       [0.7505398 , 0.2494602 ],\n",
       "       [0.74167648, 0.25832352],\n",
       "       [0.60291327, 0.39708673],\n",
       "       [0.88426611, 0.11573389],\n",
       "       [0.87695895, 0.12304105],\n",
       "       [0.50819992, 0.49180008],\n",
       "       [0.44582289, 0.55417711],\n",
       "       [0.77950769, 0.22049231],\n",
       "       [0.25853303, 0.74146697]])"
      ]
     },
     "execution_count": 4,
     "metadata": {},
     "output_type": "execute_result"
    }
   ],
   "source": [
    "y_pred_prob = logreg.predict_proba(X_test)\n",
    "y_pred_prob[:10]"
   ]
  },
  {
   "cell_type": "code",
   "execution_count": 5,
   "metadata": {},
   "outputs": [],
   "source": [
    "# Activity (Reminder): \n",
    "#     How we can obtain y_pred (whose elements are 0 and 1) from y_pred_prob:\n",
    "#         y_pred_prob = logreg.predict_proba(X_test)\n",
    "# Goal:\n",
    "#     from y_pred_prob -> obtain y_pred\n",
    "# Steps: \n",
    "#     For given y_pred_prob, \n",
    "#     check if the first element is > 0.5\n",
    "#         then returns 0\n",
    "#         else returns 1"
   ]
  },
  {
   "cell_type": "code",
   "execution_count": 6,
   "metadata": {
    "scrolled": true
   },
   "outputs": [
    {
     "data": {
      "text/plain": [
       "[0, 0, 0, 0, 0, 0, 0, 1, 0, 1]"
      ]
     },
     "execution_count": 6,
     "metadata": {},
     "output_type": "execute_result"
    }
   ],
   "source": [
    "y_pred = []\n",
    "for i in y_pred_prob:\n",
    "    if i[0] > 0.5:\n",
    "        y_pred.append(0)\n",
    "    else:\n",
    "        y_pred.append(1)\n",
    "y_pred[:10]"
   ]
  },
  {
   "cell_type": "code",
   "execution_count": 7,
   "metadata": {},
   "outputs": [
    {
     "data": {
      "text/plain": [
       "array([0, 0, 0, 0, 0, 0, 0, 1, 0, 1])"
      ]
     },
     "execution_count": 7,
     "metadata": {},
     "output_type": "execute_result"
    }
   ],
   "source": [
    "running_test = logreg.predict(X_test)\n",
    "running_test[:10]\n",
    "np.alltrue(running_test == np.array(y_pred))"
   ]
  },
  {
   "cell_type": "code",
   "execution_count": 8,
   "metadata": {},
   "outputs": [
    {
     "data": {
      "text/plain": [
       "True"
      ]
     },
     "execution_count": 8,
     "metadata": {},
     "output_type": "execute_result"
    }
   ],
   "source": [
    "np.alltrue(running_test == np.array(y_pred))"
   ]
  },
  {
   "cell_type": "code",
   "execution_count": 9,
   "metadata": {},
   "outputs": [
    {
     "data": {
      "image/png": "[encoded data removed]",
      "text/plain": [
       "<Figure size 432x288 with 1 Axes>"
      ]
     },
     "metadata": {
      "needs_background": "light"
     },
     "output_type": "display_data"
    }
   ],
   "source": [
    "plt.hist(y_pred_prob[:, 1], bins=8)\n",
    "plt.show()"
   ]
  },
  {
   "cell_type": "code",
   "execution_count": 10,
   "metadata": {},
   "outputs": [
    {
     "data": {
      "text/plain": [
       "0.3576388888888889"
      ]
     },
     "execution_count": 10,
     "metadata": {},
     "output_type": "execute_result"
    }
   ],
   "source": [
    "threshold = y_train.value_counts()[1] / len(y_train)\n",
    "threshold"
   ]
  },
  {
   "cell_type": "code",
   "execution_count": 12,
   "metadata": {},
   "outputs": [
    {
     "data": {
      "text/plain": [
       "[0, 1, 1, 0, 1, 1, 0, 0, 1, 0]"
      ]
     },
     "execution_count": 12,
     "metadata": {},
     "output_type": "execute_result"
    }
   ],
   "source": [
    "y_pred = []\n",
    "for i in y_pred_prob:\n",
    "    if i[1] > threshold:\n",
    "        y_pred.append(0)\n",
    "    else:\n",
    "        y_pred.append(1)\n",
    "y_pred[:10]"
   ]
  },
  {
   "cell_type": "code",
   "execution_count": 13,
   "metadata": {},
   "outputs": [
    {
     "data": {
      "text/plain": [
       "array([[40, 90],\n",
       "       [36, 26]])"
      ]
     },
     "execution_count": 13,
     "metadata": {},
     "output_type": "execute_result"
    }
   ],
   "source": [
    "confusion = metrics.confusion_matrix(y_test, y_pred)\n",
    "confusion"
   ]
  },
  {
   "cell_type": "code",
   "execution_count": null,
   "metadata": {},
   "outputs": [],
   "source": []
  }
 ],
 "metadata": {
  "kernelspec": {
   "display_name": "Python 3",
   "language": "python",
   "name": "python3"
  },
  "language_info": {
   "codemirror_mode": {
    "name": "ipython",
    "version": 3
   },
   "file_extension": ".py",
   "mimetype": "text/x-python",
   "name": "python",
   "nbconvert_exporter": "python",
   "pygments_lexer": "ipython3",
   "version": "3.7.6"
  }
 },
 "nbformat": 4,
 "nbformat_minor": 4
}
